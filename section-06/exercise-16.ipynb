{
 "cells": [
  {
   "cell_type": "markdown",
   "id": "ae42cbfd",
   "metadata": {},
   "source": [
    "## LL: Find Kth Node From End ( ** Interview Question)\n",
    "Implement the `find_kth_from_end` function, which takes the LinkedList (ll) and an integer k as input, and returns the k-th node from the end of the linked list **WITHOUT USING LENGTH**.\n",
    "\n",
    "\n",
    "\n",
    "**NOTE: This is a SEPARATE FUNCTION that is NOT a method within the LinkedList class.  This means you need to indent the function all the way to the LEFT.**\n",
    "\n",
    "\n",
    "\n",
    "Given this LinkedList:\n",
    "\n",
    "`1 -> 2 -> 3 -> 4 -> 5`\n",
    "\n",
    "If `k=1` then return the first node from the end (the last node) which contains the value of `5`.\n",
    "\n",
    "If `k=2` then return the second node from the end which contains the value of `4`, etc.\n",
    "\n",
    "If the index is out of bounds, the program should return `None`.\n",
    "\n",
    "The find_kth_from_end function should follow these requirements:\n",
    "\n",
    "1. The function should utilize two pointers, slow and fast, initialized to the head of the linked list.\n",
    "\n",
    "2. The fast pointer should move k nodes ahead in the list.\n",
    "\n",
    "3. If the fast pointer becomes None before moving k nodes, the function should return None, as the list is shorter than k nodes.\n",
    "\n",
    "4. The slow and fast pointers should then move forward in the list at the same time until the fast pointer reaches the end of the list.\n",
    "\n",
    "5. The function should return the slow pointer, which will be at the k-th position from the end of the list."
   ]
  },
  {
   "cell_type": "code",
   "execution_count": 30,
   "id": "3f638dbc",
   "metadata": {},
   "outputs": [
    {
     "name": "stdout",
     "output_type": "stream",
     "text": [
      "5\n"
     ]
    },
    {
     "data": {
      "text/plain": [
       "'\\n    EXPECTED OUTPUT:\\n    ----------------\\n    4\\n\\n'"
      ]
     },
     "execution_count": 30,
     "metadata": {},
     "output_type": "execute_result"
    }
   ],
   "source": [
    "class Node:\n",
    "    def __init__(self, value):\n",
    "        self.value = value\n",
    "        self.next = None\n",
    "        \n",
    "\n",
    "class LinkedList:\n",
    "    def __init__(self, value):\n",
    "        new_node = Node(value)\n",
    "        self.head = new_node\n",
    "        self.tail = new_node\n",
    "\n",
    "    def append(self, value):\n",
    "        new_node = Node(value)\n",
    "        if self.head == None:\n",
    "            self.head = new_node\n",
    "            self.tail = new_node\n",
    "        else:\n",
    "            self.tail.next = new_node\n",
    "            self.tail = new_node\n",
    "        return True\n",
    "\n",
    "\n",
    "def find_kth_from_end(ll, k):\n",
    "    tortoise = ll.head\n",
    "    heir = ll.head\n",
    "\n",
    "    for _ in range(k):\n",
    "        if not heir:\n",
    "            return None\n",
    "        heir = heir.next\n",
    "\n",
    "    while True:\n",
    "        if not heir:\n",
    "            return tortoise\n",
    "        heir = heir.next\n",
    "        tortoise = tortoise.next\n",
    "\n",
    "\n",
    "my_linked_list = LinkedList(1)\n",
    "my_linked_list.append(2)\n",
    "my_linked_list.append(3)\n",
    "my_linked_list.append(4)\n",
    "my_linked_list.append(5)\n",
    "\n",
    "\n",
    "k = 1\n",
    "result = find_kth_from_end(my_linked_list, k)\n",
    "\n",
    "print(result.value)  # Output: 4\n",
    "\n",
    "\n",
    "\n",
    "\"\"\"\n",
    "    EXPECTED OUTPUT:\n",
    "    ----------------\n",
    "    4\n",
    "    \n",
    "\"\"\"\n",
    "\n"
   ]
  }
 ],
 "metadata": {
  "kernelspec": {
   "display_name": "Python 3",
   "language": "python",
   "name": "python3"
  },
  "language_info": {
   "codemirror_mode": {
    "name": "ipython",
    "version": 3
   },
   "file_extension": ".py",
   "mimetype": "text/x-python",
   "name": "python",
   "nbconvert_exporter": "python",
   "pygments_lexer": "ipython3",
   "version": "3.12.2"
  }
 },
 "nbformat": 4,
 "nbformat_minor": 5
}
