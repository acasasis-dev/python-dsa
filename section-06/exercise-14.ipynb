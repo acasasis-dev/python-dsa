{
 "cells": [
  {
   "cell_type": "markdown",
   "id": "abb67f86",
   "metadata": {},
   "source": [
    "## LL: Find Middle Node ( ** Interview Question)\n",
    "Implement the `find_middle_node` method for the LinkedList class.\n",
    "\n",
    "**Note: this `LinkedList` implementation does not have a `length` member variable.**\n",
    "\n",
    "If the linked list has an even number of nodes, return the first node of the second half of the list.\n",
    "\n",
    "Keep in mind the following requirements:\n",
    "\n",
    "- The method should use a two-pointer approach, where one pointer (slow) moves one node at a time and the other pointer (fast) moves two nodes at a time.\n",
    "\n",
    "- When the fast pointer reaches the end of the list or has no next node, the slow pointer should be at the middle node of the list.\n",
    "\n",
    "- The method should return the middle node when the number of nodes is odd or the first node of the second half of the list if the list has an even number of nodes.\n",
    "\n",
    "- The method should only traverse the linked list once.  In other words, you can only use one loop."
   ]
  },
  {
   "cell_type": "code",
   "execution_count": null,
   "id": "60f95968",
   "metadata": {},
   "outputs": [
    {
     "name": "stdout",
     "output_type": "stream",
     "text": [
      "3\n"
     ]
    },
    {
     "data": {
      "text/plain": [
       "'\\n    EXPECTED OUTPUT:\\n    ----------------\\n    3\\n\\n'"
      ]
     },
     "execution_count": 4,
     "metadata": {},
     "output_type": "execute_result"
    }
   ],
   "source": [
    "class Node:\n",
    "    def __init__(self, value):\n",
    "        self.value = value\n",
    "        self.next = None\n",
    "        \n",
    "\n",
    "class LinkedList:\n",
    "    def __init__(self, value):\n",
    "        new_node = Node(value)\n",
    "        self.head = new_node\n",
    "        self.tail = new_node\n",
    "\n",
    "        \n",
    "    def append(self, value):\n",
    "        new_node = Node(value)\n",
    "        if self.head == None:\n",
    "            self.head = new_node\n",
    "            self.tail = new_node\n",
    "        else:\n",
    "            self.tail.next = new_node\n",
    "            self.tail = new_node\n",
    "        return True\n",
    "        \n",
    "    def find_middle_node(self):\n",
    "        if not self.head:\n",
    "            return None\n",
    "        if not self.head.next:\n",
    "            return self.head\n",
    "        tortoise = self.head\n",
    "        heir = self.head\n",
    "\n",
    "        while True:\n",
    "            tortoise = tortoise.next\n",
    "            if not heir.next or heir.next.next:\n",
    "                tortoise = tortoise.next\n",
    "                break\n",
    "            heir = heir.next.next\n",
    "\n",
    "        return tortoise\n",
    "\n",
    "\n",
    "my_linked_list = LinkedList(1)\n",
    "my_linked_list.append(2)\n",
    "my_linked_list.append(3)\n",
    "my_linked_list.append(4)\n",
    "my_linked_list.append(5)\n",
    "\n",
    "print( my_linked_list.find_middle_node().value )\n",
    "\n",
    "\n",
    "\n",
    "\"\"\"\n",
    "    EXPECTED OUTPUT:\n",
    "    ----------------\n",
    "    3\n",
    "    \n",
    "\"\"\""
   ]
  }
 ],
 "metadata": {
  "kernelspec": {
   "display_name": "Python 3",
   "language": "python",
   "name": "python3"
  },
  "language_info": {
   "codemirror_mode": {
    "name": "ipython",
    "version": 3
   },
   "file_extension": ".py",
   "mimetype": "text/x-python",
   "name": "python",
   "nbconvert_exporter": "python",
   "pygments_lexer": "ipython3",
   "version": "3.12.2"
  }
 },
 "nbformat": 4,
 "nbformat_minor": 5
}
