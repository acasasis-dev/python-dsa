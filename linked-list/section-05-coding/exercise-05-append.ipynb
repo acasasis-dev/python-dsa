{
 "cells": [
  {
   "cell_type": "markdown",
   "id": "099d610b",
   "metadata": {},
   "source": [
    "## LL: Append\n",
    "Implement the `append` method for the LinkedList class.\n",
    "\n",
    "The `append` method should add a new node with a given value to the end of the linked list, updating the tail attribute and the length attribute accordingly.\n",
    "\n",
    "\n",
    "\n",
    "Keep in mind the following requirements:\n",
    "\n",
    "\n",
    "\n",
    "1. The method should handle the cases where the list is empty and where the list already has one or more nodes.\n",
    "\n",
    "2. The method should create a new node with the given value and add it to the end of the list.\n",
    "\n",
    "3. The method should update the tail attribute of the LinkedList correctly.\n",
    "\n",
    "4. The method should update the length attribute of the LinkedList to reflect the addition of the new node.\n",
    "\n"
   ]
  },
  {
   "cell_type": "code",
   "execution_count": 1,
   "id": "6d3b04c0",
   "metadata": {},
   "outputs": [
    {
     "name": "stdout",
     "output_type": "stream",
     "text": [
      "Head: 1\n",
      "Tail: 2\n",
      "Length: 2 \n",
      "\n",
      "Linked List:\n",
      "1\n",
      "2\n"
     ]
    },
    {
     "data": {
      "text/plain": [
       "'\\n    EXPECTED OUTPUT:\\n    ----------------\\n    Head: 1\\n    Tail: 2\\n    Length: 2 \\n\\n    Linked List:\\n    1\\n    2\\n\\n'"
      ]
     },
     "execution_count": 1,
     "metadata": {},
     "output_type": "execute_result"
    }
   ],
   "source": [
    "class Node:\n",
    "    def __init__(self, value):\n",
    "        self.value = value\n",
    "        self.next = None\n",
    "        \n",
    "\n",
    "class LinkedList:\n",
    "    def __init__(self, value):\n",
    "        new_node = Node(value)\n",
    "        self.head = new_node\n",
    "        self.tail = new_node\n",
    "        self.length = 1\n",
    "\n",
    "    def print_list(self):\n",
    "        temp = self.head\n",
    "        while temp is not None:\n",
    "            print(temp.value)\n",
    "            temp = temp.next\n",
    "            \n",
    "    def make_empty(self):\n",
    "        self.head = None\n",
    "        self.tail = None\n",
    "        self.length = 0\n",
    "        \n",
    "    def append(self, value):\n",
    "        new_node = Node(value)\n",
    "        \n",
    "        if not self.head:\n",
    "            self.head = new_node\n",
    "            self.tail = new_node\n",
    "        else:\n",
    "            self.tail.next = new_node\n",
    "            self.tail = new_node\n",
    "        \n",
    "        self.length += 1\n",
    "\n",
    "\n",
    "my_linked_list = LinkedList(1)\n",
    "my_linked_list.make_empty()\n",
    "\n",
    "my_linked_list.append(1)\n",
    "my_linked_list.append(2)\n",
    "\n",
    "print('Head:', my_linked_list.head.value)\n",
    "print('Tail:', my_linked_list.tail.value)\n",
    "print('Length:', my_linked_list.length, '\\n')\n",
    "\n",
    "print('Linked List:')\n",
    "my_linked_list.print_list()\n",
    "\n",
    "\n",
    "\"\"\"\n",
    "    EXPECTED OUTPUT:\n",
    "    ----------------\n",
    "    Head: 1\n",
    "    Tail: 2\n",
    "    Length: 2 \n",
    "\n",
    "    Linked List:\n",
    "    1\n",
    "    2\n",
    "    \n",
    "\"\"\"\n"
   ]
  }
 ],
 "metadata": {
  "kernelspec": {
   "display_name": "Python 3",
   "language": "python",
   "name": "python3"
  },
  "language_info": {
   "codemirror_mode": {
    "name": "ipython",
    "version": 3
   },
   "file_extension": ".py",
   "mimetype": "text/x-python",
   "name": "python",
   "nbconvert_exporter": "python",
   "pygments_lexer": "ipython3",
   "version": "3.12.2"
  }
 },
 "nbformat": 4,
 "nbformat_minor": 5
}
