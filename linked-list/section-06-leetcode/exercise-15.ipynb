{
 "cells": [
  {
   "cell_type": "markdown",
   "id": "206a46aa",
   "metadata": {},
   "source": [
    "## LL: Has Loop ( ** Interview Question)\n",
    "Write a method called `has_loop` that is part of the linked list class.\n",
    "\n",
    "The method should be able to detect if there is a cycle or loop present in the linked list.\n",
    "\n",
    "You are required to use Floyd's cycle-finding algorithm (also known as the \"tortoise and the hare\" algorithm) to detect the loop.\n",
    "\n",
    "This algorithm uses two pointers: a slow pointer and a fast pointer. The slow pointer moves one step at a time, while the fast pointer moves two steps at a time. If there is a loop in the linked list, the two pointers will eventually meet at some point. If there is no loop, the fast pointer will reach the end of the list.\n",
    "\n",
    "The method should follow these guidelines:\n",
    "\n",
    "\n",
    "\n",
    "1. Create two pointers, `slow` and `fast`, both initially pointing to the head of the linked list.\n",
    "\n",
    "2. Traverse the list with the `slow` pointer moving one step at a time, while the `fast` pointer moves two steps at a time.\n",
    "\n",
    "3. If there is a loop in the list, the `fast` pointer will eventually meet the `slow` pointer. If this occurs, the method should return `True`.\n",
    "\n",
    "4. If the `fast` pointer reaches the end of the list or encounters a `None` value, it means there is no loop in the list. In this case, the method should return `False`.\n"
   ]
  },
  {
   "cell_type": "code",
   "execution_count": null,
   "id": "e2f8b9cd",
   "metadata": {},
   "outputs": [
    {
     "name": "stdout",
     "output_type": "stream",
     "text": [
      "tortoise: 1, heir: 3\n",
      "tortoise: 2, heir: 1\n",
      "tortoise: 3, heir: 3\n",
      "True\n",
      "tortoise: 1, heir: 3\n",
      "False\n"
     ]
    },
    {
     "data": {
      "text/plain": [
       "'\\n    EXPECTED OUTPUT:\\n    ----------------\\n    True\\n    False\\n\\n'"
      ]
     },
     "execution_count": 20,
     "metadata": {},
     "output_type": "execute_result"
    }
   ],
   "source": [
    "class Node:\n",
    "    def __init__(self, value):\n",
    "        self.value = value\n",
    "        self.next = None\n",
    "        \n",
    "class LinkedList:\n",
    "    def __init__(self, value):\n",
    "        new_node = Node(value)\n",
    "        self.head = new_node\n",
    "        self.tail = new_node\n",
    "        self.length = 1\n",
    "\n",
    "    def append(self, value):\n",
    "        new_node = Node(value)\n",
    "        if self.length == 0:\n",
    "            self.head = new_node\n",
    "            self.tail = new_node\n",
    "        else:\n",
    "            self.tail.next = new_node\n",
    "            self.tail = new_node\n",
    "        self.length += 1\n",
    "        return True\n",
    "\n",
    "    def has_loop(self):\n",
    "        if not self.head:\n",
    "            return False\n",
    "        if not self.head.next:\n",
    "            return False\n",
    "        tortoise = self.head\n",
    "        heir = self.head\n",
    "\n",
    "        while True:\n",
    "            if heir.next and heir.next.next:\n",
    "                heir = heir.next.next\n",
    "            else:\n",
    "                return False\n",
    "            if tortoise.value == heir.value:\n",
    "                return True\n",
    "            tortoise = tortoise.next\n",
    "\n",
    "    \n",
    "my_linked_list_1 = LinkedList(1)\n",
    "my_linked_list_1.append(2)\n",
    "my_linked_list_1.append(3)\n",
    "my_linked_list_1.append(4)\n",
    "my_linked_list_1.tail.next = my_linked_list_1.head\n",
    "print(my_linked_list_1.has_loop() ) # Returns True\n",
    "\n",
    "\n",
    "\n",
    "\n",
    "my_linked_list_2 = LinkedList(1)\n",
    "my_linked_list_2.append(2)\n",
    "my_linked_list_2.append(3)\n",
    "my_linked_list_2.append(4)\n",
    "print(my_linked_list_2.has_loop() ) # Returns False\n",
    "\n",
    "\n",
    "\n",
    "\"\"\"\n",
    "    EXPECTED OUTPUT:\n",
    "    ----------------\n",
    "    True\n",
    "    False\n",
    "    \n",
    "\"\"\"\n"
   ]
  }
 ],
 "metadata": {
  "kernelspec": {
   "display_name": "Python 3",
   "language": "python",
   "name": "python3"
  },
  "language_info": {
   "codemirror_mode": {
    "name": "ipython",
    "version": 3
   },
   "file_extension": ".py",
   "mimetype": "text/x-python",
   "name": "python",
   "nbconvert_exporter": "python",
   "pygments_lexer": "ipython3",
   "version": "3.12.2"
  }
 },
 "nbformat": 4,
 "nbformat_minor": 5
}
