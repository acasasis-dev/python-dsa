{
 "cells": [
  {
   "cell_type": "markdown",
   "id": "d762a519",
   "metadata": {},
   "source": [
    "## LL: Constructor\n",
    "You are tasked with implementing a basic data structure: a singly linked list.\n",
    "\n",
    "To accomplish this, you will create two classes, ```Node``` and `LinkedList`.\n",
    "\n",
    "The ```Node``` class will represent an individual ```Node``` within the linked list, while the `LinkedList` class will manage the overall list structure.\n",
    "\n",
    "Your implementation should satisfy the following requirements:\n",
    "\n",
    "\n",
    "\n",
    "1. Create a ````Node```` class with the following features:\n",
    "\n",
    "&nbsp;&nbsp;&nbsp;&nbsp;&nbsp;&nbsp;&nbsp;&nbsp; a. constructor that takes a value as an argument and initializes the value attribute of the ```Node```.\n",
    "\n",
    "&nbsp;&nbsp;&nbsp;&nbsp;&nbsp;&nbsp;&nbsp;&nbsp; b. next attribute, initialized to None, which will store a reference to the next ```Node``` in the list.\n",
    "\n",
    "2. Create a `LinkedList` class with the following features:\n",
    "\n",
    "&nbsp;&nbsp;&nbsp;&nbsp;&nbsp;&nbsp;&nbsp;&nbsp; a. A constructor that takes a value as an argument, creates a new ```Node``` with that value, and initializes the head and tail attributes of the linked list to point to the new ```Node```.\n",
    "\n",
    "&nbsp;&nbsp;&nbsp;&nbsp;&nbsp;&nbsp;&nbsp;&nbsp; b. A length attribute, initialized to 1, which represents the current number of ```Node```s in the list."
   ]
  },
  {
   "cell_type": "code",
   "execution_count": 1,
   "id": "b732ad97",
   "metadata": {},
   "outputs": [
    {
     "name": "stdout",
     "output_type": "stream",
     "text": [
      "Head: 4\n",
      "Tail: 4\n",
      "Length: 1\n"
     ]
    },
    {
     "data": {
      "text/plain": [
       "'\\n    EXPECTED OUTPUT:\\n    ----------------\\n    Head: 4\\n    Tail: 4\\n    Length: 1\\n\\n'"
      ]
     },
     "execution_count": 1,
     "metadata": {},
     "output_type": "execute_result"
    }
   ],
   "source": [
    "class Node:\n",
    "\tdef __init__(self, value):\n",
    "\t\tself.value = value\n",
    "\t\tself.next = None\n",
    "        \n",
    "class LinkedList:\n",
    "\tdef __init__(self, value):\n",
    "\t\tnode = Node(value)\n",
    "\t\tself.head = node\n",
    "\t\tself.tail = node\n",
    "\t\tself.length = 1\n",
    "\n",
    "my_linked_list = LinkedList(4)\n",
    "\n",
    "print('Head:', my_linked_list.head.value)\n",
    "print('Tail:', my_linked_list.tail.value)\n",
    "print('Length:', my_linked_list.length)\n",
    "\n",
    "\n",
    "\n",
    "\"\"\"\n",
    "    EXPECTED OUTPUT:\n",
    "    ----------------\n",
    "    Head: 4\n",
    "    Tail: 4\n",
    "    Length: 1\n",
    "    \n",
    "\"\"\"\n",
    "\n",
    "                                                                                                                    "
   ]
  }
 ],
 "metadata": {
  "kernelspec": {
   "display_name": "Python 3",
   "language": "python",
   "name": "python3"
  },
  "language_info": {
   "codemirror_mode": {
    "name": "ipython",
    "version": 3
   },
   "file_extension": ".py",
   "mimetype": "text/x-python",
   "name": "python",
   "nbconvert_exporter": "python",
   "pygments_lexer": "ipython3",
   "version": "3.12.2"
  }
 },
 "nbformat": 4,
 "nbformat_minor": 5
}
