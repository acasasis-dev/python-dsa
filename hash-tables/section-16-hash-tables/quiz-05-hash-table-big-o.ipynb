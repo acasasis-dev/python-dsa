{
 "cells": [
  {
   "cell_type": "markdown",
   "id": "8045a24f",
   "metadata": {},
   "source": [
    "## Quiz 5: Hash Table Big O"
   ]
  },
  {
   "cell_type": "markdown",
   "id": "2c161363",
   "metadata": {},
   "source": [
    "> 1. Both Insert and Lookup by key in a Hash Table is $O(1)$. True or False?"
   ]
  },
  {
   "cell_type": "markdown",
   "id": "4aeabb3b",
   "metadata": {},
   "source": [
    "> 2. Since a Hash Table is $O(1)$ for Insert and Lookup it is always better than a Binary Search Tree. True or False?"
   ]
  },
  {
   "cell_type": "markdown",
   "id": "c327a778",
   "metadata": {},
   "source": [
    "> 3. Looking up a value in a Hash Table is $O(1)$. True or False?"
   ]
  }
 ],
 "metadata": {
  "language_info": {
   "name": "python"
  }
 },
 "nbformat": 4,
 "nbformat_minor": 5
}
