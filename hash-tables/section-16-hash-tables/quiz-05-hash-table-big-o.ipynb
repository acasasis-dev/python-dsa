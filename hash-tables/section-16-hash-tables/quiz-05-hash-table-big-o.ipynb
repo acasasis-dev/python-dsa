{
 "cells": [
  {
   "cell_type": "markdown",
   "id": "8045a24f",
   "metadata": {},
   "source": [
    "## Quiz 5: Hash Table Big O"
   ]
  },
  {
   "cell_type": "markdown",
   "id": "2c161363",
   "metadata": {},
   "source": [
    "> 1. Both Insert and Lookup by key in a Hash Table is $O(1)$. True or False?\n",
    "\n",
    "True, as long as the hash algorithm is built for preventing collision, key-value pairs will be distributed in a unique way that makes it not hard to lookup the values."
   ]
  },
  {
   "cell_type": "markdown",
   "id": "4aeabb3b",
   "metadata": {},
   "source": [
    "> 2. Since a Hash Table is $O(1)$ for Insert and Lookup it is always better than a Binary Search Tree. True or False?\n",
    "\n",
    "False, as Binary Search Trees are sorted, which makes it much easier to do a lookup than a Hash Table which is randomly given a memory address based on the hash algorithm result."
   ]
  },
  {
   "cell_type": "markdown",
   "id": "c327a778",
   "metadata": {},
   "source": [
    "> 3. Looking up a value in a Hash Table is $O(1)$. True or False?\n",
    "\n",
    "False, as Lookup up the Key in a Hash Table is already $O(1)$ and adding $1$ more operation to fetch the value makes it $O(2)$"
   ]
  }
 ],
 "metadata": {
  "language_info": {
   "name": "python"
  }
 },
 "nbformat": 4,
 "nbformat_minor": 5
}
