{
 "cells": [
  {
   "cell_type": "markdown",
   "id": "56d6b52c",
   "metadata": {},
   "source": [
    "## HT: Find Duplicates ( ** Interview Question)"
   ]
  },
  {
   "cell_type": "markdown",
   "id": "9837d301",
   "metadata": {},
   "source": [
    "`find_duplicates()`\n",
    "\n",
    "**Problem**: Given an array of integers `nums`, find all the duplicates in the array using a hash table (*dictionary*).\n",
    "\n",
    "Input:\n",
    "- A list of integers `nums`.\n",
    "\n",
    "Output:\n",
    "- A list of integers representing the numbers in the input array `nums` that appear more than once. If no duplicates are found in the input array, return an empty list [].\n",
    "\n",
    "    <pre>\n",
    "    Input: nums = [4, 3, 2, 7, 8, 2, 3, 1]\n",
    "Output: [2, 3]\n",
    "Explanation: The numbers 2 and 3 appear more than once in the input array.\n",
    " \n",
    "Input: nums = [1, 2, 3, 4, 5]\n",
    "Output: []\n",
    "Explanation: There are no duplicates in the input array, so the function returns an empty list [].\n",
    " \n",
    "Input: nums = [3, 3, 3, 3, 3]\n",
    "Output: [3]\n",
    "Explanation: The number 3 appears more than once in the input array.\n",
    " \n",
    "Input: nums = [-1, 0, 1, 0, -1, -1, 2, 2]\n",
    "Output: [-1, 0, 2]\n",
    "Explanation: The numbers -1, 0, and 2 appear more than once in the input array.\n",
    " \n",
    "Input: nums = []\n",
    "Output: []\n",
    "Explanation: There are no numbers in the input array, so the function returns an empty list [].\n",
    "    </pre>"
   ]
  },
  {
   "cell_type": "code",
   "execution_count": null,
   "id": "0134efc1",
   "metadata": {},
   "outputs": [],
   "source": [
    "# WRITE FIND_DUPLICATES FUNCTION HERE #\n",
    "#                                     #\n",
    "#                                     #\n",
    "#                                     #\n",
    "#                                     #\n",
    "#######################################\n",
    "\n",
    "\n",
    "print ( find_duplicates([1, 2, 3, 4, 5]) )\n",
    "print ( find_duplicates([1, 1, 2, 2, 3]) )\n",
    "print ( find_duplicates([1, 1, 1, 1, 1]) )\n",
    "print ( find_duplicates([1, 2, 3, 3, 3, 4, 4, 5]) )\n",
    "print ( find_duplicates([1, 1, 2, 2, 2, 3, 3, 3, 3]) )\n",
    "print ( find_duplicates([1, 1, 1, 2, 2, 2, 3, 3, 3, 3]) )\n",
    "print ( find_duplicates([]) )\n",
    "\n",
    "\n",
    "\"\"\"\n",
    "    EXPECTED OUTPUT:\n",
    "    ----------------\n",
    "    []\n",
    "    [1, 2]\n",
    "    [1]\n",
    "    [3, 4]\n",
    "    [1, 2, 3]\n",
    "    [1, 2, 3]\n",
    "    []\n",
    "\n",
    "\"\"\"\n"
   ]
  }
 ],
 "metadata": {
  "language_info": {
   "name": "python"
  }
 },
 "nbformat": 4,
 "nbformat_minor": 5
}
