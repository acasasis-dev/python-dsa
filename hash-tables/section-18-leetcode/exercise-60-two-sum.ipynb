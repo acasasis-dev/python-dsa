{
 "cells": [
  {
   "cell_type": "markdown",
   "id": "fb9a89a2",
   "metadata": {},
   "source": [
    "## HT: Two Sum ( ** Interview Question)"
   ]
  },
  {
   "cell_type": "markdown",
   "id": "282dbb63",
   "metadata": {},
   "source": [
    "`two_sum()`\n",
    "\n",
    "**Problem**:\n",
    "Given an array of integers `nums` and a target integer `target`, find the indices of two numbers in the array that add up to the target.\n",
    "\n",
    "The main challenge here is to implement this function in one pass through the array. This means you should not iterate over the array more than once. Therefore, your solution should have a time complexity of O(n), where n is the number of elements in `nums`.\n",
    "\n",
    "**Input**:\n",
    "- A list of integers `nums`.\n",
    "- A target integer `target`.\n",
    "\n",
    "**Output**:\n",
    "- A list of two integers representing the *indices* of the two numbers in the input array `nums` that add up to the target. If no two numbers in the input array add up to the target, return an empty list [].\n",
    "\n",
    "**Example**:\n",
    "<pre>\n",
    "Input: nums = [5, 1, 7, 2, 9, 3], target = 10\n",
    "Output: [1, 4]\n",
    "Explanation: The numbers at indices 1 and 4 in the array add up to the target 10.\n",
    " \n",
    "Input: nums = [3, 2, 4], target = 6\n",
    "Output: [1, 2]\n",
    "Explanation: The numbers at indices 1 and 2 in the array add up to the target 6.\n",
    " \n",
    "Input: nums = [3, 3], target = 6\n",
    "Output: [0, 1]\n",
    "Explanation: The numbers at indices 0 and 1 in the array add up to the target 6.\n",
    " \n",
    "Input: nums = [2, 1, 2, 7, 11, 15], target = 9\n",
    "Output: [2, 3]\n",
    "Explanation: Notice there are two 2s in the array.  The second one will be used.\n",
    " \n",
    "Input: nums = [1, 2, 3, 4, 5], target = 10\n",
    "Output: []\n",
    "Explanation: There are no two numbers in the array add up to the target 10.\n",
    " \n",
    "Input: nums = [], target = 0\n",
    "Output: []\n",
    "Explanation: There are no numbers in the input array, so the function returns an empty list [].\n",
    "</pre>\n"
   ]
  },
  {
   "cell_type": "code",
   "execution_count": null,
   "id": "d4b8cc4f",
   "metadata": {},
   "outputs": [],
   "source": [
    "# WRITE TWO_SUM FUNCTION HERE #\n",
    "#                             #\n",
    "#                             #\n",
    "#                             #\n",
    "#                             #\n",
    "###############################\n",
    "    \n",
    "    \n",
    "print(two_sum([5, 1, 7, 2, 9, 3], 10))  \n",
    "print(two_sum([4, 2, 11, 7, 6, 3], 9))  \n",
    "print(two_sum([10, 15, 5, 2, 8, 1, 7], 12))  \n",
    "print(two_sum([1, 3, 5, 7, 9], 10))  \n",
    "print ( two_sum([1, 2, 3, 4, 5], 10) )\n",
    "print ( two_sum([1, 2, 3, 4, 5], 7) )\n",
    "print ( two_sum([1, 2, 3, 4, 5], 3) )\n",
    "print ( two_sum([], 0) )\n",
    "\n",
    "\n",
    "\"\"\"\n",
    "    EXPECTED OUTPUT:\n",
    "    ----------------\n",
    "    [1, 4]\n",
    "    [1, 3]\n",
    "    [0, 3]\n",
    "    [1, 3]\n",
    "    []\n",
    "    [2, 3]\n",
    "    [0, 1]\n",
    "    []\n",
    "\n",
    "\"\"\"\n"
   ]
  }
 ],
 "metadata": {
  "language_info": {
   "name": "python"
  }
 },
 "nbformat": 4,
 "nbformat_minor": 5
}
