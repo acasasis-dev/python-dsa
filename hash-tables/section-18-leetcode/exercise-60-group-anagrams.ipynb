{
 "cells": [
  {
   "cell_type": "markdown",
   "id": "79c8826c",
   "metadata": {},
   "source": [
    "## HT: Group Anagrams ( ** Interview Question)"
   ]
  },
  {
   "cell_type": "markdown",
   "id": "12c29991",
   "metadata": {},
   "source": [
    "You have been given an array of strings, where each string may contain only lowercase English letters. You need to write a function `group_anagrams(strings)` that groups the anagrams in the array together using a hash table (dictionary). The function should return a list of lists, where each inner list contains a group of anagrams.\n",
    "\n",
    "For example, if the input array is `[\"eat\", \"tea\", \"tan\", \"ate\", \"nat\", \"bat\"]`, the function should return `[[\"eat\",\"tea\",\"ate\"],[\"tan\",\"nat\"],[\"bat\"]]` because the first three strings are anagrams of each other, the next two strings are anagrams of each other, and the last string has no anagrams in the input array.\n",
    "\n",
    "You need to implement the `group_anagrams(strings)` function and return a list of lists, where each inner list contains a group of anagrams according to the above requirements."
   ]
  },
  {
   "cell_type": "code",
   "execution_count": null,
   "id": "c12a7cbd",
   "metadata": {},
   "outputs": [],
   "source": [
    "# WRITE GROUP_ANAGRAMS FUNCTION HERE #\n",
    "#                                    #\n",
    "#                                    #\n",
    "#                                    #\n",
    "#                                    #\n",
    "######################################\n",
    "\n",
    "\n",
    "print(\"1st set:\")\n",
    "print( group_anagrams([\"eat\", \"tea\", \"tan\", \"ate\", \"nat\", \"bat\"]) )\n",
    "\n",
    "print(\"\\n2nd set:\")\n",
    "print( group_anagrams([\"abc\", \"cba\", \"bac\", \"foo\", \"bar\"]) )\n",
    "\n",
    "print(\"\\n3rd set:\")\n",
    "print( group_anagrams([\"listen\", \"silent\", \"triangle\", \"integral\", \"garden\", \"ranged\"]) )\n",
    "\n",
    "\n",
    "\"\"\"\n",
    "    EXPECTED OUTPUT:\n",
    "    ----------------\n",
    "    1st set:\n",
    "    [['eat', 'tea', 'ate'], ['tan', 'nat'], ['bat']]\n",
    "\n",
    "    2nd set:\n",
    "    [['abc', 'cba', 'bac'], ['foo'], ['bar']]\n",
    "\n",
    "    3rd set:\n",
    "    [['listen', 'silent'], ['triangle', 'integral'], ['garden', 'ranged']]\n",
    "\n",
    "\"\"\""
   ]
  }
 ],
 "metadata": {
  "language_info": {
   "name": "python"
  }
 },
 "nbformat": 4,
 "nbformat_minor": 5
}
