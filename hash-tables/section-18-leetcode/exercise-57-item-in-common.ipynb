{
 "cells": [
  {
   "cell_type": "markdown",
   "id": "384cba24",
   "metadata": {},
   "source": [
    "## HT: Item In Common ( ** Interview Question)"
   ]
  },
  {
   "cell_type": "markdown",
   "id": "1366588c",
   "metadata": {},
   "source": [
    "Write a function `item_in_common(list1, list2)` that takes two lists as input and returns `True` if there is at least one common item between the two lists, `False` otherwise.\n",
    "\n",
    "Use a dictionary to solve the problem that creates an $O(n)$ time complexity."
   ]
  },
  {
   "cell_type": "code",
   "execution_count": null,
   "id": "db46db6c",
   "metadata": {},
   "outputs": [],
   "source": [
    "# WRITE ITEM_IN_COMMON FUNCTION HERE #\n",
    "#                                    #\n",
    "#                                    #\n",
    "#                                    #\n",
    "#                                    #\n",
    "######################################\n",
    "\n",
    "list1 = [1, 3, 5]\n",
    "list2 = [2, 4, 5]\n",
    "\n",
    "\n",
    "print(item_in_common(list1, list2))\n",
    "\n",
    "\n",
    "\"\"\"\n",
    "    EXPECTED OUTPUT:\n",
    "    ----------------\n",
    "    True\n",
    "\n",
    "\"\"\""
   ]
  }
 ],
 "metadata": {
  "language_info": {
   "name": "python"
  }
 },
 "nbformat": 4,
 "nbformat_minor": 5
}
