{
 "cells": [
  {
   "cell_type": "markdown",
   "id": "384cba24",
   "metadata": {},
   "source": [
    "## HT: Item In Common ( ** Interview Question)"
   ]
  },
  {
   "cell_type": "markdown",
   "id": "1366588c",
   "metadata": {},
   "source": [
    "Write a function `item_in_common(list1, list2)` that takes two lists as input and returns `True` if there is at least one common item between the two lists, `False` otherwise.\n",
    "\n",
    "Use a dictionary to solve the problem that creates an $O(n)$ time complexity."
   ]
  },
  {
   "cell_type": "code",
   "execution_count": 3,
   "id": "db46db6c",
   "metadata": {},
   "outputs": [
    {
     "name": "stdout",
     "output_type": "stream",
     "text": [
      "True\n"
     ]
    },
    {
     "data": {
      "text/plain": [
       "'\\n    EXPECTED OUTPUT:\\n    ----------------\\n    True\\n\\n'"
      ]
     },
     "execution_count": 3,
     "metadata": {},
     "output_type": "execute_result"
    }
   ],
   "source": [
    "# WRITE ITEM_IN_COMMON FUNCTION HERE #\n",
    "#                                    #\n",
    "#                                    #\n",
    "#                                    #\n",
    "#                                    #\n",
    "######################################\n",
    "\n",
    "list1 = [1, 3, 5]\n",
    "list2 = [2, 4, 5]\n",
    "\n",
    "def item_in_common(list1, list2):\n",
    "    record = {}\n",
    "\n",
    "    for v in list1:\n",
    "        record[v] = True\n",
    "\n",
    "    for v in list2:\n",
    "        if v in record:\n",
    "            return True\n",
    "\n",
    "    return False\n",
    "\n",
    "print(item_in_common(list1, list2))\n",
    "\n",
    "\n",
    "\"\"\"\n",
    "    EXPECTED OUTPUT:\n",
    "    ----------------\n",
    "    True\n",
    "\n",
    "\"\"\""
   ]
  }
 ],
 "metadata": {
  "kernelspec": {
   "display_name": "Python 3",
   "language": "python",
   "name": "python3"
  },
  "language_info": {
   "codemirror_mode": {
    "name": "ipython",
    "version": 3
   },
   "file_extension": ".py",
   "mimetype": "text/x-python",
   "name": "python",
   "nbconvert_exporter": "python",
   "pygments_lexer": "ipython3",
   "version": "3.12.2"
  }
 },
 "nbformat": 4,
 "nbformat_minor": 5
}
