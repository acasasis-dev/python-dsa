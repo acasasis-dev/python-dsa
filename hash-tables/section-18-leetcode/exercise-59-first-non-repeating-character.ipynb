{
 "cells": [
  {
   "cell_type": "markdown",
   "id": "8b62e9b2",
   "metadata": {},
   "source": [
    "## HT: First Non-Repeating Character ( ** Interview Question)"
   ]
  },
  {
   "cell_type": "markdown",
   "id": "fd1e07f5",
   "metadata": {},
   "source": [
    "You have been given a string of lowercase letters.\n",
    "\n",
    "Write a function called `first_non_repeating_char(string)` that finds the first non-repeating character in the given string using a hash table (*dictionary*). If there is no non-repeating character in the string, the function should return `None`.\n",
    "\n",
    "For example, if the input string is \"leetcode\", the function should return \"l\" because \"l\" is the first character that appears only once in the string. Similarly, if the input string is \"hello\", the function should return \"h\" because \"h\" is the first non-repeating character in the string."
   ]
  },
  {
   "cell_type": "code",
   "execution_count": 5,
   "id": "17172154",
   "metadata": {},
   "outputs": [
    {
     "name": "stdout",
     "output_type": "stream",
     "text": [
      "l\n",
      "h\n",
      "None\n"
     ]
    },
    {
     "data": {
      "text/plain": [
       "'\\n    EXPECTED OUTPUT:\\n    ----------------\\n    l\\n    h\\n    None\\n\\n'"
      ]
     },
     "execution_count": 5,
     "metadata": {},
     "output_type": "execute_result"
    }
   ],
   "source": [
    "# WRITE THE FUNCTION HERE #\n",
    "#                         #\n",
    "#                         #\n",
    "#                         #\n",
    "#                         #\n",
    "###########################\n",
    "\n",
    "def first_non_repeating_char(string):\n",
    "    record = {}\n",
    "\n",
    "    for l in string:\n",
    "        if l not in record:\n",
    "            record[l] = True\n",
    "        else:\n",
    "            record.pop(l)\n",
    "\n",
    "    return list(record.keys())[0] if record else None\n",
    "\n",
    "print( first_non_repeating_char('leetcode') )\n",
    "print( first_non_repeating_char('hello') )\n",
    "print( first_non_repeating_char('aabbcc') )\n",
    "\n",
    "\n",
    "\"\"\"\n",
    "    EXPECTED OUTPUT:\n",
    "    ----------------\n",
    "    l\n",
    "    h\n",
    "    None\n",
    "\n",
    "\"\"\""
   ]
  }
 ],
 "metadata": {
  "kernelspec": {
   "display_name": "Python 3",
   "language": "python",
   "name": "python3"
  },
  "language_info": {
   "codemirror_mode": {
    "name": "ipython",
    "version": 3
   },
   "file_extension": ".py",
   "mimetype": "text/x-python",
   "name": "python",
   "nbconvert_exporter": "python",
   "pygments_lexer": "ipython3",
   "version": "3.12.2"
  }
 },
 "nbformat": 4,
 "nbformat_minor": 5
}
