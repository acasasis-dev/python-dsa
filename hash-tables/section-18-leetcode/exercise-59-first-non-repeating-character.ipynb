{
 "cells": [
  {
   "cell_type": "markdown",
   "id": "8b62e9b2",
   "metadata": {},
   "source": [
    "## HT: First Non-Repeating Character ( ** Interview Question)"
   ]
  },
  {
   "cell_type": "markdown",
   "id": "fd1e07f5",
   "metadata": {},
   "source": [
    "You have been given a string of lowercase letters.\n",
    "\n",
    "Write a function called `first_non_repeating_char(string)` that finds the first non-repeating character in the given string using a hash table (*dictionary*). If there is no non-repeating character in the string, the function should return `None`.\n",
    "\n",
    "For example, if the input string is \"leetcode\", the function should return \"l\" because \"l\" is the first character that appears only once in the string. Similarly, if the input string is \"hello\", the function should return \"h\" because \"h\" is the first non-repeating character in the string."
   ]
  },
  {
   "cell_type": "code",
   "execution_count": null,
   "id": "17172154",
   "metadata": {},
   "outputs": [],
   "source": [
    "# WRITE THE FUNCTION HERE #\n",
    "#                         #\n",
    "#                         #\n",
    "#                         #\n",
    "#                         #\n",
    "###########################\n",
    "\n",
    "\n",
    "print( first_non_repeating_char('leetcode') )\n",
    "print( first_non_repeating_char('hello') )\n",
    "print( first_non_repeating_char('aabbcc') )\n",
    "\n",
    "\n",
    "\"\"\"\n",
    "    EXPECTED OUTPUT:\n",
    "    ----------------\n",
    "    l\n",
    "    h\n",
    "    None\n",
    "\n",
    "\"\"\""
   ]
  }
 ],
 "metadata": {
  "language_info": {
   "name": "python"
  }
 },
 "nbformat": 4,
 "nbformat_minor": 5
}
