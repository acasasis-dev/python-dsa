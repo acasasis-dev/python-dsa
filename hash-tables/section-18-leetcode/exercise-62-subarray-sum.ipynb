{
 "cells": [
  {
   "cell_type": "markdown",
   "id": "6df4b426",
   "metadata": {},
   "source": [
    "## HT: SubArray Sum ( ** Interview Question)"
   ]
  },
  {
   "cell_type": "markdown",
   "id": "eb0ff885",
   "metadata": {},
   "source": [
    "Given an array of integers `nums` and a target integer `target`, write a Python function called `subarray_sum` that finds the indices of a contiguous subarray in `nums` that add up to the `target` sum using a hash table (*dictionary*).\n",
    "\n",
    "Your function should take two arguments:\n",
    "\n",
    "- `nums`: a list of integers representing the input array\n",
    "\n",
    "- `target`: an integer representing the target sum\n",
    "\n",
    "Your function should return a list of two integers representing the starting and ending indices of the subarray that adds up to the target sum. If there is no such subarray, your function should return an empty list.\n",
    "\n",
    "For example:\n",
    "```python\n",
    "nums = [1, 2, 3, 4, 5]\n",
    "target = 9\n",
    "print(subarray_sum(nums, target))  # should print [1, 3]\n",
    "```\n",
    "\n",
    "Note that there may be multiple subarrays that add up to the target sum, but your function only needs to return the indices of any one such subarray. Also, the input list may contain both positive and negative integers."
   ]
  },
  {
   "cell_type": "code",
   "execution_count": null,
   "id": "d0217cdd",
   "metadata": {},
   "outputs": [],
   "source": [
    "# WRITE SUBARRAY_SUM FUNCTION HERE #\n",
    "#                                  #\n",
    "#                                  #\n",
    "#                                  #\n",
    "#                                  #\n",
    "####################################\n",
    "\n",
    "\n",
    "nums = [1, 2, 3, 4, 5]\n",
    "target = 9\n",
    "print ( subarray_sum(nums, target) )\n",
    "\n",
    "nums = [-1, 2, 3, -4, 5]\n",
    "target = 0\n",
    "print ( subarray_sum(nums, target) )\n",
    "\n",
    "nums = [2, 3, 4, 5, 6]\n",
    "target = 3\n",
    "print ( subarray_sum(nums, target) )\n",
    "\n",
    "nums = []\n",
    "target = 0\n",
    "print ( subarray_sum(nums, target) )\n",
    "\n",
    "\n",
    "\"\"\"\n",
    "    EXPECTED OUTPUT:\n",
    "    ----------------\n",
    "    [1, 3]\n",
    "    [0, 3]\n",
    "    [1, 1]\n",
    "    []\n",
    "\n",
    "\"\"\"\n"
   ]
  }
 ],
 "metadata": {
  "language_info": {
   "name": "python"
  }
 },
 "nbformat": 4,
 "nbformat_minor": 5
}
