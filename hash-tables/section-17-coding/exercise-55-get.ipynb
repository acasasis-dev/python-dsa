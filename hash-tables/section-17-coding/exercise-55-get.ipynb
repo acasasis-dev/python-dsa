{
 "cells": [
  {
   "cell_type": "markdown",
   "id": "2c0a0a67",
   "metadata": {},
   "source": [
    "## HT: Get"
   ]
  },
  {
   "cell_type": "markdown",
   "id": "85b87fa7",
   "metadata": {},
   "source": [
    "Implement the `get_item` method for the HashTable class that retrieves the value associated with a given key from the hash table.\n",
    "\n",
    "The method should perform the following tasks:\n",
    "\n",
    "1. Calculate the hash value of the given key by calling the private `__hash` method and store the result in a variable named `index`.\n",
    "\n",
    "2. Check if the `data_map` list at the calculated index is not None:\n",
    "\n",
    "    - If it is not, iterate through the key-value pairs stored in the list at the calculated index in `data_map`:\n",
    "\n",
    "        - For each key-value pair, compare the stored key (located at position $0$) with the given key.\n",
    "\n",
    "        - If a match is found, return the corresponding value (located at position $1$) of the key-value pair.\n",
    "\n",
    "3. If the given key is not found in the hash table, return None."
   ]
  },
  {
   "cell_type": "code",
   "execution_count": 1,
   "id": "0c0d7286",
   "metadata": {},
   "outputs": [
    {
     "name": "stdout",
     "output_type": "stream",
     "text": [
      "Bolts: 1400\n",
      "Washers: 50\n",
      "Lumber: None\n"
     ]
    },
    {
     "data": {
      "text/plain": [
       "'\\n    EXPECTED OUTPUT:\\n    ----------------\\n    Bolts: 1400\\n    Washers: 50\\n    Lumber: None\\n\\n'"
      ]
     },
     "execution_count": 1,
     "metadata": {},
     "output_type": "execute_result"
    }
   ],
   "source": [
    "class HashTable:\n",
    "    def __init__(self, size = 7):\n",
    "        self.data_map = [None] * size\n",
    "      \n",
    "    def __hash(self, key):\n",
    "        my_hash = 0\n",
    "        for letter in key:\n",
    "            my_hash = (my_hash + ord(letter) * 23) % len(self.data_map)\n",
    "        return my_hash  \n",
    "\n",
    "    def print_table(self):\n",
    "        for i, val in enumerate(self.data_map): \n",
    "            print(i, \": \", val)\n",
    "    \n",
    "    def set_item(self, key, value):\n",
    "        index = self.__hash(key)\n",
    "        if self.data_map[index] == None:\n",
    "            self.data_map[index] = []\n",
    "        self.data_map[index].append([key, value])\n",
    "    \n",
    "    ## WRITE GET_ITEM METHOD HERE ##\n",
    "    #                              #\n",
    "    #                              #\n",
    "    #                              #\n",
    "    #                              #\n",
    "    ################################\n",
    "\n",
    "    def get_item(self, key):\n",
    "        index = self.__hash(key)\n",
    "\n",
    "        if self.data_map[index] != None:\n",
    "            for _key, value in self.data_map[index]:\n",
    "                if _key == key:\n",
    "                    return value\n",
    "        return None\n",
    "\n",
    "my_hash_table = HashTable()\n",
    "\n",
    "my_hash_table.set_item('bolts', 1400)\n",
    "my_hash_table.set_item('washers', 50)\n",
    "\n",
    "print('Bolts:', my_hash_table.get_item('bolts'))\n",
    "print('Washers:', my_hash_table.get_item('washers'))\n",
    "print('Lumber:', my_hash_table.get_item('lumber'))\n",
    "\n",
    "\n",
    "\"\"\"\n",
    "    EXPECTED OUTPUT:\n",
    "    ----------------\n",
    "    Bolts: 1400\n",
    "    Washers: 50\n",
    "    Lumber: None\n",
    "\n",
    "\"\"\""
   ]
  }
 ],
 "metadata": {
  "kernelspec": {
   "display_name": "Python 3",
   "language": "python",
   "name": "python3"
  },
  "language_info": {
   "codemirror_mode": {
    "name": "ipython",
    "version": 3
   },
   "file_extension": ".py",
   "mimetype": "text/x-python",
   "name": "python",
   "nbconvert_exporter": "python",
   "pygments_lexer": "ipython3",
   "version": "3.12.2"
  }
 },
 "nbformat": 4,
 "nbformat_minor": 5
}
