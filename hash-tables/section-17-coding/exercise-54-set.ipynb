{
 "cells": [
  {
   "cell_type": "markdown",
   "id": "6ca784a1",
   "metadata": {},
   "source": [
    "## HT: Set"
   ]
  },
  {
   "cell_type": "markdown",
   "id": "cc842f51",
   "metadata": {},
   "source": [
    "Implement the `set_item` method for the HashTable class that inserts a key-value pair into the hash table.\n",
    "\n",
    "The method should perform the following tasks:\n",
    "\n",
    "1. Calculate the hash value of the given key by calling the private `__hash` method (to be implemented separately) and store the result in a variable named `index`.\n",
    "\n",
    "2. Check if the `data_map` list at the calculated index is None:\n",
    "    - If it is, create an empty list at that index in `data_map`.\n",
    "\n",
    "3. Append the key-value pair as a list containing two elements `[key, value]` to the list at the calculated index in `data_map`."
   ]
  },
  {
   "cell_type": "code",
   "execution_count": 3,
   "id": "17ba675e",
   "metadata": {},
   "outputs": [
    {
     "name": "stdout",
     "output_type": "stream",
     "text": [
      "0 :  None\n",
      "1 :  None\n",
      "2 :  None\n",
      "3 :  None\n",
      "4 :  [['bolts', 1400], ['washers', 50]]\n",
      "5 :  None\n",
      "6 :  [['lumber', 70]]\n"
     ]
    },
    {
     "data": {
      "text/plain": [
       "\"\\n    EXPECTED OUTPUT:\\n    ----------------\\n    0 :  None\\n    1 :  None\\n    2 :  None\\n    3 :  None\\n    4 :  [['bolts', 1400], ['washers', 50]]\\n    5 :  None\\n    6 :  [['lumber', 70]]\\n\\n\""
      ]
     },
     "execution_count": 3,
     "metadata": {},
     "output_type": "execute_result"
    }
   ],
   "source": [
    "class HashTable:\n",
    "    def __init__(self, size = 7):\n",
    "        self.data_map = [None] * size\n",
    "\n",
    "    def print_table(self):\n",
    "        for i, val in enumerate(self.data_map): \n",
    "            print(i, \": \", val)\n",
    "      \n",
    "    def __hash(self, key):\n",
    "        my_hash = 0\n",
    "        for letter in key:\n",
    "            my_hash = (my_hash + ord(letter) * 23) % len(self.data_map)\n",
    "        return my_hash  \n",
    "    \n",
    "    ## WRITE SET_ITEM METHOD HERE ##\n",
    "    #                              #\n",
    "    #                              #\n",
    "    #                              #\n",
    "    #                              #\n",
    "    ################################\n",
    "\n",
    "    def set_item(self, key, value):\n",
    "        index = self.__hash(key)\n",
    "        if self.data_map[index] == None:\n",
    "            self.data_map[index] = []\n",
    "        self.data_map[index].append([key, value])\n",
    "\n",
    "\n",
    "my_hash_table = HashTable()\n",
    "\n",
    "my_hash_table.set_item('bolts', 1400)\n",
    "my_hash_table.set_item('washers', 50)\n",
    "my_hash_table.set_item('lumber', 70)\n",
    "\n",
    "my_hash_table.print_table()\n",
    "\n",
    "\n",
    "\"\"\"\n",
    "    EXPECTED OUTPUT:\n",
    "    ----------------\n",
    "    0 :  None\n",
    "    1 :  None\n",
    "    2 :  None\n",
    "    3 :  None\n",
    "    4 :  [['bolts', 1400], ['washers', 50]]\n",
    "    5 :  None\n",
    "    6 :  [['lumber', 70]]\n",
    "\n",
    "\"\"\""
   ]
  }
 ],
 "metadata": {
  "kernelspec": {
   "display_name": "Python 3",
   "language": "python",
   "name": "python3"
  },
  "language_info": {
   "codemirror_mode": {
    "name": "ipython",
    "version": 3
   },
   "file_extension": ".py",
   "mimetype": "text/x-python",
   "name": "python",
   "nbconvert_exporter": "python",
   "pygments_lexer": "ipython3",
   "version": "3.12.2"
  }
 },
 "nbformat": 4,
 "nbformat_minor": 5
}
