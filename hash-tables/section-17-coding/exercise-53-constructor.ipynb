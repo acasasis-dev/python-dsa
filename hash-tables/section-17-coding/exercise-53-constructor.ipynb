{
 "cells": [
  {
   "cell_type": "markdown",
   "id": "c30b0cc2",
   "metadata": {},
   "source": [
    "## HT: Constructor"
   ]
  },
  {
   "cell_type": "markdown",
   "id": "e4f4eeb2",
   "metadata": {},
   "source": [
    "Create a HashTable class that represents a hash table data structure with a fixed-size array implementation.\n",
    "\n",
    "The HashTable class should have the following components:\n",
    "\n",
    "1. An `__init__` method that initializes a new hash table with a given size (default size is $7$). The `__init__` method should perform the following task:\n",
    "\n",
    "    - Create a list named `data_map` of length `size`, initialized with None values, which will be used to store the key-value pairs in the hash table. Set the `data_map` attribute of the HashTable class to this list."
   ]
  },
  {
   "cell_type": "code",
   "execution_count": null,
   "id": "493a6305",
   "metadata": {},
   "outputs": [],
   "source": [
    "class HashTable:\n",
    "    ## WRITE HT CONSTRUCTOR HERE ##\n",
    "    #                             #\n",
    "    #                             #\n",
    "    ###############################\n",
    "\n",
    "\n",
    "    def __hash(self, key):\n",
    "        my_hash = 0\n",
    "        for letter in key:\n",
    "            my_hash = (my_hash + ord(letter) * 23) % len(self.data_map)\n",
    "        return my_hash  \n",
    "\n",
    "    def print_table(self):\n",
    "        for i, val in enumerate(self.data_map): \n",
    "            print(i, \": \", val)\n",
    "\n",
    "        \n",
    "my_hash_table = HashTable()\n",
    "\n",
    "my_hash_table.print_table()\n",
    "\n",
    "\n",
    "\"\"\"\n",
    "    EXPECTED OUTPUT:\n",
    "    ----------------\n",
    "    0 :  None\n",
    "    1 :  None\n",
    "    2 :  None\n",
    "    3 :  None\n",
    "    4 :  None\n",
    "    5 :  None\n",
    "    6 :  None\n",
    "\n",
    "\"\"\""
   ]
  }
 ],
 "metadata": {
  "language_info": {
   "name": "python"
  }
 },
 "nbformat": 4,
 "nbformat_minor": 5
}
