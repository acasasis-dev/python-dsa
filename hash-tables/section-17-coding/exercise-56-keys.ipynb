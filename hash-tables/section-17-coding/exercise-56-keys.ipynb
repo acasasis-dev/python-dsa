{
 "cells": [
  {
   "cell_type": "markdown",
   "id": "e1e7cac9",
   "metadata": {},
   "source": [
    "## HT: Keys"
   ]
  },
  {
   "cell_type": "markdown",
   "id": "6d82b030",
   "metadata": {},
   "source": [
    "Implement the `keys` method for the HashTable class that returns a list of all the keys present in the hash table.\n",
    "\n",
    "The method should perform the following tasks:\n",
    "\n",
    "1. Create an empty list named `all_keys` that will store the keys present in the hash table.\n",
    "\n",
    "2. Iterate through the `data_map` list:\n",
    "\n",
    "    - For each non-None element in `data_map`, iterate through the key-value pairs stored in the nested list.\n",
    "\n",
    "        - For each key-value pair, append the key (located at position $0$) to the `all_keys` list.\n",
    "\n",
    "3. Return the `all_keys` list containing all the keys present in the hash table."
   ]
  },
  {
   "cell_type": "code",
   "execution_count": null,
   "id": "e4568dea",
   "metadata": {},
   "outputs": [],
   "source": [
    "class HashTable:\n",
    "    def __init__(self, size = 7):\n",
    "        self.data_map = [None] * size\n",
    "      \n",
    "    def __hash(self, key):\n",
    "        my_hash = 0\n",
    "        for letter in key:\n",
    "            my_hash = (my_hash + ord(letter) * 23) % len(self.data_map)\n",
    "        return my_hash  \n",
    "\n",
    "    def print_table(self):\n",
    "        for i, val in enumerate(self.data_map): \n",
    "            print(i, \": \", val)\n",
    "    \n",
    "    def set_item(self, key, value):\n",
    "        index = self.__hash(key)\n",
    "        if self.data_map[index] == None:\n",
    "            self.data_map[index] = []\n",
    "        self.data_map[index].append([key, value])\n",
    "    \n",
    "    def get_item(self, key):\n",
    "        index = self.__hash(key)\n",
    "        if self.data_map[index] is not None:\n",
    "            for i in range(len(self.data_map[index])):\n",
    "                if self.data_map[index][i][0] == key:\n",
    "                    return self.data_map[index][i][1]\n",
    "        return None\n",
    "\n",
    "    ## WRITE KEYS METHOD HERE ##\n",
    "    #                          #\n",
    "    #                          #\n",
    "    #                          #\n",
    "    #                          #\n",
    "    ############################\n",
    "\n",
    "\n",
    "my_hash_table = HashTable()\n",
    "\n",
    "my_hash_table.set_item('bolts', 1400)\n",
    "my_hash_table.set_item('washers', 50)\n",
    "my_hash_table.set_item('lumber', 70)\n",
    "\n",
    "print(my_hash_table.keys())\n",
    "\n",
    "\n",
    "\"\"\"\n",
    "    EXPECTED OUTPUT:\n",
    "    ----------------\n",
    "    ['bolts', 'washers', 'lumber']\n",
    "\n",
    "\"\"\""
   ]
  }
 ],
 "metadata": {
  "language_info": {
   "name": "python"
  }
 },
 "nbformat": 4,
 "nbformat_minor": 5
}
